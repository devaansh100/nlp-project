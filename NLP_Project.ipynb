{
 "cells": [
  {
   "cell_type": "markdown",
   "metadata": {
    "id": "Rq1mEd4pExnP"
   },
   "source": [
    "### Environment Setup"
   ]
  },
  {
   "cell_type": "code",
   "execution_count": null,
   "metadata": {
    "id": "rbFEAwZ8ija7"
   },
   "outputs": [],
   "source": [
    "!mkdir data models\n",
    "!pip install sacrebleu datasets"
   ]
  },
  {
   "cell_type": "code",
   "execution_count": null,
   "metadata": {},
   "outputs": [],
   "source": [
    "!cp utils.py /usr/local/lib/python3.10/dist-packages/transformers/generation/utils.py"
   ]
  },
  {
   "cell_type": "markdown",
   "metadata": {
    "id": "mD7pVCJEDPO9"
   },
   "source": [
    "###Importing Libraries"
   ]
  },
  {
   "cell_type": "code",
   "execution_count": null,
   "metadata": {
    "id": "JcS3o45VVQ43"
   },
   "outputs": [],
   "source": [
    "import numpy as np\n",
    "import torch\n",
    "from transformers import AutoModel, AutoTokenizer\n",
    "from sklearn.linear_model import LogisticRegression\n",
    "from tqdm.notebook import tqdm\n",
    "import torch.nn as nn\n",
    "from transformers import LlamaForCausalLM, AutoTokenizer\n",
    "from torch.nn.utils.rnn import pad_sequence\n",
    "from datasets import load_dataset\n",
    "import sacrebleu\n",
    "import os"
   ]
  },
  {
   "cell_type": "markdown",
   "metadata": {
    "id": "x8e2jdCdDjdz"
   },
   "source": [
    "###Authenticating with Hugging Face"
   ]
  },
  {
   "cell_type": "code",
   "execution_count": null,
   "metadata": {
    "colab": {
     "base_uri": "https://localhost:8080/",
     "height": 17,
     "referenced_widgets": [
      "1899963d4b144db1ada71d410e2da346",
      "41454e8f23e445528747f645aa28527c",
      "e3824c24a288447199861fa06bcaf11b",
      "0c9111ec384c403383094bab123a98cb",
      "b1f98ca490a44f539135644251211f9b",
      "10335da0e686465a8a6586f073492a78",
      "2b84ebd56ef14313aa698c7ed73b5b6c",
      "1e8d1d9b2d5b4770ba1284ab72fe817d",
      "3db2f643546747a9aceb87d579f3e7cb",
      "8aff53b2d74d4c60964ac2de4a2db800",
      "bc0591a9f98d4a8fbd894d1b35121c93",
      "7f3f491a93994f97b44dc7a973213e6e",
      "fcb9ccacf8fa4b32945ead304330f72e",
      "a941441b9ca24cab85f9e8c64c3619c2",
      "a6d08af8621744ae8fad521711f4616c",
      "b0978442048c444684fe94ef43d3f9ed",
      "3cc64cd244954b3585e5ecf7e0e8f2d6",
      "972d2815b2fc4f4d88de4db5a2b9e130",
      "bd4eebd16a824b39b86b96b36e4342f9",
      "e47359139b6c4bb89d62364ee4f81dd0"
     ]
    },
    "id": "Ib6myA5alK24",
    "outputId": "734155ca-fcda-4f0f-d585-256f2ab0a2d0"
   },
   "outputs": [
    {
     "data": {
      "application/vnd.jupyter.widget-view+json": {
       "model_id": "1899963d4b144db1ada71d410e2da346",
       "version_major": 2,
       "version_minor": 0
      },
      "text/plain": [
       "VBox(children=(HTML(value='<center> <img\\nsrc=https://huggingface.co/front/assets/huggingface_logo-noborder.sv…"
      ]
     },
     "metadata": {},
     "output_type": "display_data"
    }
   ],
   "source": [
    "from huggingface_hub import notebook_login\n",
    "notebook_login()"
   ]
  },
  {
   "cell_type": "markdown",
   "metadata": {
    "id": "GZd3844jDo2G"
   },
   "source": [
    "### Language Model Selection"
   ]
  },
  {
   "cell_type": "code",
   "execution_count": null,
   "metadata": {
    "id": "ErX9aIcgcaLq"
   },
   "outputs": [],
   "source": [
    "model_name = 'meta-llama/Llama-3.2-1B-Instruct' # Also tried \"gpt-2\""
   ]
  },
  {
   "cell_type": "markdown",
   "metadata": {
    "id": "8or-CZefDvrm"
   },
   "source": [
    "### Preparing and Tokenizing Data"
   ]
  },
  {
   "cell_type": "code",
   "execution_count": null,
   "metadata": {
    "id": "4NpZ_IAScJKn"
   },
   "outputs": [],
   "source": [
    "def annotate(prompt, answer, is_true, tokenizer):\n",
    "    answer_begin = prompt.index(answer)\n",
    "    question_tokens = tokenizer(prompt[:answer_begin], add_special_tokens=True).input_ids\n",
    "    answer_tokens = tokenizer(prompt[answer_begin:], add_special_tokens=True).input_ids\n",
    "    labels = [1] * len(question_tokens) + [int(is_true)] * len(answer_tokens)\n",
    "    return torch.tensor(question_tokens + answer_tokens).long(), torch.tensor(labels).long()\n",
    "\n",
    "def get_annotations():\n",
    "    # Initialize tokenizer\n",
    "    tokenizer = AutoTokenizer.from_pretrained(model_name)\n",
    "\n",
    "    # Load and preprocess dataset\n",
    "    dataset = load_dataset(\"truthful_qa\", \"generation\")['validation']\n",
    "\n",
    "    # Split data into train/val\n",
    "    test_indices = torch.rand(len(dataset)) < 0.8\n",
    "    indices = {\n",
    "        'test': torch.where(test_indices)[0],\n",
    "        'train': torch.where(~test_indices)[0]\n",
    "    }\n",
    "    np.save('data/test_indices.npy', torch.where(test_indices)[0].numpy())\n",
    "    train_tokens, train_labels = [], []\n",
    "    val_tokens, val_labels = [], []\n",
    "    for split in indices:\n",
    "        for i in tqdm(indices[split], desc = f'Tokenizing {split}'):\n",
    "            for answer, is_true in zip(dataset['correct_answers'][i] + dataset['incorrect_answers'][i], [True] * len(dataset['correct_answers'][i]) + [False] * len(dataset['incorrect_answers'][i])):\n",
    "                chat = [\n",
    "                  {\"role\": \"user\", \"content\": dataset['question'][i]},\n",
    "                  {\"role\": \"assistant\", \"content\": answer},\n",
    "                ]\n",
    "                input_text = tokenizer.apply_chat_template(chat, tokenize=False)\n",
    "\n",
    "                tokens, labels = annotate(input_text, answer, is_true, tokenizer)\n",
    "                if split == 'train':\n",
    "                    train_tokens.append(tokens)\n",
    "                    train_labels.append(labels)\n",
    "                else:\n",
    "                    val_tokens.append(tokens)\n",
    "                    val_labels.append(labels)\n",
    "\n",
    "    train_tokens, train_labels = pad_sequence(train_tokens, batch_first=True, padding_value=tokenizer.eos_token_id), pad_sequence(train_labels, batch_first=True, padding_value=-1)\n",
    "    val_tokens, val_labels = pad_sequence(val_tokens, batch_first=True, padding_value=tokenizer.eos_token_id), pad_sequence(val_labels, batch_first=True, padding_value=-1)\n",
    "\n",
    "    os.makedirs(f'data/{model_name}', exist_ok=True)\n",
    "    np.save(f'data/{model_name}/train_tokens.npy', train_tokens.numpy())\n",
    "    np.save(f'data/{model_name}/train_labels.npy', train_labels.numpy())\n",
    "    np.save(f'data/{model_name}/val_tokens.npy', val_tokens.numpy())\n",
    "    np.save(f'data/{model_name}/val_labels.npy', val_labels.numpy())\n",
    "\n",
    "get_annotations()"
   ]
  },
  {
   "cell_type": "markdown",
   "metadata": {
    "id": "yXlL0k_4EGW4"
   },
   "source": [
    "###Training a Truthfulness Classifier"
   ]
  },
  {
   "cell_type": "code",
   "execution_count": null,
   "metadata": {
    "id": "_8PjJ65WlaCm"
   },
   "outputs": [],
   "source": [
    "def extract_token_embeddings(model, tokenizer, tokens, labels, device):\n",
    "    embeddings = []\n",
    "    flattened_labels = []\n",
    "\n",
    "    batch_size = 32\n",
    "    with torch.no_grad():\n",
    "        for i in tqdm(range(0, len(tokens), batch_size)):\n",
    "            batch_labels = labels[i:i+batch_size]\n",
    "            inputs = torch.from_numpy(tokens[i:i+batch_size]).to(device)\n",
    "            attention_mask = (inputs != tokenizer.eos_token_id).long().to(device)\n",
    "\n",
    "            outputs = model(inputs, attention_mask=attention_mask)\n",
    "            token_embeddings = outputs.last_hidden_state\n",
    "            valid_mask = batch_labels != -1\n",
    "            embeddings.append(token_embeddings[valid_mask].cpu().numpy())\n",
    "            flattened_labels.append(batch_labels[valid_mask])\n",
    "\n",
    "    return np.concatenate(embeddings), np.concatenate(flattened_labels)\n",
    "\n",
    "def create_classifier():\n",
    "    # Load tokenizer and model\n",
    "    tokenizer = AutoTokenizer.from_pretrained(model_name)\n",
    "    model = AutoModel.from_pretrained(model_name)\n",
    "    model.eval()\n",
    "\n",
    "    # Use the appropriate device for Apple Silicon\n",
    "    device = torch.device(\"mps\") if torch.backends.mps.is_available() else torch.device(\"cpu\")\n",
    "    if torch.cuda.is_available():\n",
    "        device = torch.device('cuda')\n",
    "    print(f\"Using device: {device}\")\n",
    "    model.to(device)\n",
    "\n",
    "    # Load annotated data\n",
    "    train_tokens = np.load(f'data/{model_name}/train_tokens.npy')\n",
    "    train_labels = np.load(f'data/{model_name}/train_labels.npy')\n",
    "\n",
    "    # Extract token embeddings and labels for training data\n",
    "    print(\"Extracting token embeddings for training data...\")\n",
    "    train_features, train_targets = extract_token_embeddings(model, tokenizer, train_tokens, train_labels, device)\n",
    "\n",
    "    # Check for any remaining -1 labels\n",
    "    print(f\"Unique labels in train set: {np.unique(train_targets)}\")\n",
    "\n",
    "    # Ensure no -1 labels\n",
    "    assert -1 not in train_targets, \"Found -1 labels in training data\"\n",
    "\n",
    "    # Train a logistic regression classifier\n",
    "    print(\"Training logistic regression model...\")\n",
    "    classifier = LogisticRegression(max_iter=5000)\n",
    "    classifier.fit(train_features, train_targets)\n",
    "\n",
    "    # Save the classifier's weights and biases\n",
    "    print(\"Saving the classifier's weights and biases...\")\n",
    "    os.makedirs(f'models/{model_name}', exist_ok=True)\n",
    "    np.save(f'models/{model_name}/logistic_regression_weights.npy', classifier.coef_)\n",
    "    np.save(f'models/{model_name}/logistic_regression_biases.npy', classifier.intercept_)\n",
    "\n",
    "create_classifier()\n",
    "torch.cuda.empty_cache()"
   ]
  },
  {
   "cell_type": "markdown",
   "metadata": {
    "id": "CceZAiguEN10"
   },
   "source": [
    "###Truthful Language Model"
   ]
  },
  {
   "cell_type": "code",
   "execution_count": null,
   "metadata": {
    "id": "GYgkKF89NyWx"
   },
   "outputs": [],
   "source": [
    "class TruthfulLlama(LlamaForCausalLM):\n",
    "\tdef add_truthful_head(self, model_name):\n",
    "\t\tweight = torch.from_numpy(np.load(f'models/{model_name}/logistic_regression_weights.npy')).float()\n",
    "\t\tbias = torch.from_numpy(np.load(f'models/{model_name}/logistic_regression_biases.npy')).float()\n",
    "\t\tself.truthful_head = torch.nn.Linear(self.model.config.hidden_size, 1)\n",
    "\t\tself.truthful_head.weight.data.copy_(weight)\n",
    "\t\tself.truthful_head.bias.data.copy_(bias)\n",
    "\n",
    "\tdef forward(self, *args, **kwargs):\n",
    "\t\toutputs = super().forward(*args, **kwargs, output_hidden_states=True)\n",
    "\t\toutputs.logits += self.truthful_head(outputs.hidden_states[-1])\n",
    "\t\treturn outputs"
   ]
  },
  {
   "cell_type": "markdown",
   "metadata": {
    "id": "UrtLJrTLEUdr"
   },
   "source": [
    "###Loading and Preparing for Evaluation"
   ]
  },
  {
   "cell_type": "code",
   "execution_count": null,
   "metadata": {
    "id": "b8QgOGBJSbDU"
   },
   "outputs": [],
   "source": [
    "tokenizer = AutoTokenizer.from_pretrained(model_name, padding_side='left')\n",
    "tokenizer.pad_token = tokenizer.eos_token\n",
    "dataset = load_dataset(\"truthful_qa\", \"generation\")['validation']\n",
    "test_indices = np.load('data/test_indices.npy')"
   ]
  },
  {
   "cell_type": "markdown",
   "metadata": {
    "id": "HIGPCCufEYPJ"
   },
   "source": [
    "###Evaluating and Comparing Models"
   ]
  },
  {
   "cell_type": "code",
   "execution_count": null,
   "metadata": {
    "id": "MnSsxDx_SipS"
   },
   "outputs": [],
   "source": [
    "def get_bleu(model, tokenizer):\n",
    "  batch_size = 32\n",
    "  with torch.no_grad():\n",
    "      references, output_texts = [], []\n",
    "      for i in tqdm(range(0, len(test_indices), batch_size)):\n",
    "          inds = test_indices[i: i + batch_size]\n",
    "          input_texts = [dataset['question'][j] for j in inds]\n",
    "          references = references + [dataset['correct_answers'][j] for j in inds]\n",
    "          inputs = tokenizer(input_texts, padding='longest', return_tensors='pt')\n",
    "          inputs = {k: v.to('cuda') for k, v in inputs.items()}\n",
    "\n",
    "          outputs = model.generate(**inputs, max_new_tokens=200, temperature=0.9, num_beams=5, do_sample=True)\n",
    "          output_texts.extend(tokenizer.batch_decode(outputs, skip_special_tokens=True))\n",
    "          del inputs\n",
    "      model_score = sacrebleu.corpus_bleu(output_texts, references=references).score\n",
    "      return output_texts, model_score\n",
    "\n",
    "model = TruthfulLlama.from_pretrained(model_name)\n",
    "model.add_truthful_head(model_name)\n",
    "model.cuda()\n",
    "\n",
    "outputs_model, bleu_model = get_bleu(model, tokenizer)\n",
    "torch.cuda.empty_cache()\n",
    "\n",
    "model.cpu()\n",
    "del model\n",
    "model = LlamaForCausalLM.from_pretrained(model_name)\n",
    "model.cuda()\n",
    "\n",
    "outputs_llama, bleu_llama = get_bleu(model, tokenizer)\n",
    "torch.cuda.empty_cache()\n",
    "\n",
    "print(f'del BLEU: {round(100 * (bleu_model - bleu_llama)/bleu_llama, 2)}')"
   ]
  },
  {
   "cell_type": "markdown",
   "metadata": {
    "id": "VvFT54XIEdRK"
   },
   "source": [
    "### Saving outputs"
   ]
  },
  {
   "cell_type": "code",
   "execution_count": null,
   "metadata": {
    "id": "6eXJcgNcnHn-"
   },
   "outputs": [],
   "source": [
    "with open('Llama_outputs.txt', 'w') as f:\n",
    "    for line in outputs_llama:\n",
    "        f.write(line + '\\n----\\n')\n",
    "\n",
    "with open('TruthfulLlama_outputs.txt', 'w') as f:\n",
    "    for line in outputs_model:\n",
    "        f.write(line + '\\n----\\n')"
   ]
  }
 ],
 "metadata": {
  "accelerator": "GPU",
  "colab": {
   "gpuType": "T4",
   "provenance": []
  },
  "kernelspec": {
   "display_name": "Python 3",
   "name": "python3"
  },
  "language_info": {
   "name": "python"
  },
  "widgets": {
   "application/vnd.jupyter.widget-state+json": {
    "0c9111ec384c403383094bab123a98cb": {
     "model_module": "@jupyter-widgets/controls",
     "model_module_version": "1.5.0",
     "model_name": "CheckboxModel",
     "state": {
      "_dom_classes": [],
      "_model_module": "@jupyter-widgets/controls",
      "_model_module_version": "1.5.0",
      "_model_name": "CheckboxModel",
      "_view_count": null,
      "_view_module": "@jupyter-widgets/controls",
      "_view_module_version": "1.5.0",
      "_view_name": "CheckboxView",
      "description": "Add token as git credential?",
      "description_tooltip": null,
      "disabled": false,
      "indent": true,
      "layout": "IPY_MODEL_7f3f491a93994f97b44dc7a973213e6e",
      "style": "IPY_MODEL_fcb9ccacf8fa4b32945ead304330f72e",
      "value": true
     }
    },
    "10335da0e686465a8a6586f073492a78": {
     "model_module": "@jupyter-widgets/controls",
     "model_module_version": "1.5.0",
     "model_name": "HTMLModel",
     "state": {
      "_dom_classes": [],
      "_model_module": "@jupyter-widgets/controls",
      "_model_module_version": "1.5.0",
      "_model_name": "HTMLModel",
      "_view_count": null,
      "_view_module": "@jupyter-widgets/controls",
      "_view_module_version": "1.5.0",
      "_view_name": "HTMLView",
      "description": "",
      "description_tooltip": null,
      "layout": "IPY_MODEL_b0978442048c444684fe94ef43d3f9ed",
      "placeholder": "​",
      "style": "IPY_MODEL_3cc64cd244954b3585e5ecf7e0e8f2d6",
      "value": "\n<b>Pro Tip:</b> If you don't already have one, you can create a dedicated\n'notebooks' token with 'write' access, that you can then easily reuse for all\nnotebooks. </center>"
     }
    },
    "1899963d4b144db1ada71d410e2da346": {
     "model_module": "@jupyter-widgets/controls",
     "model_module_version": "1.5.0",
     "model_name": "VBoxModel",
     "state": {
      "_dom_classes": [],
      "_model_module": "@jupyter-widgets/controls",
      "_model_module_version": "1.5.0",
      "_model_name": "VBoxModel",
      "_view_count": null,
      "_view_module": "@jupyter-widgets/controls",
      "_view_module_version": "1.5.0",
      "_view_name": "VBoxView",
      "box_style": "",
      "children": [],
      "layout": "IPY_MODEL_2b84ebd56ef14313aa698c7ed73b5b6c"
     }
    },
    "1e8d1d9b2d5b4770ba1284ab72fe817d": {
     "model_module": "@jupyter-widgets/base",
     "model_module_version": "1.2.0",
     "model_name": "LayoutModel",
     "state": {
      "_model_module": "@jupyter-widgets/base",
      "_model_module_version": "1.2.0",
      "_model_name": "LayoutModel",
      "_view_count": null,
      "_view_module": "@jupyter-widgets/base",
      "_view_module_version": "1.2.0",
      "_view_name": "LayoutView",
      "align_content": null,
      "align_items": null,
      "align_self": null,
      "border": null,
      "bottom": null,
      "display": null,
      "flex": null,
      "flex_flow": null,
      "grid_area": null,
      "grid_auto_columns": null,
      "grid_auto_flow": null,
      "grid_auto_rows": null,
      "grid_column": null,
      "grid_gap": null,
      "grid_row": null,
      "grid_template_areas": null,
      "grid_template_columns": null,
      "grid_template_rows": null,
      "height": null,
      "justify_content": null,
      "justify_items": null,
      "left": null,
      "margin": null,
      "max_height": null,
      "max_width": null,
      "min_height": null,
      "min_width": null,
      "object_fit": null,
      "object_position": null,
      "order": null,
      "overflow": null,
      "overflow_x": null,
      "overflow_y": null,
      "padding": null,
      "right": null,
      "top": null,
      "visibility": null,
      "width": null
     }
    },
    "2b84ebd56ef14313aa698c7ed73b5b6c": {
     "model_module": "@jupyter-widgets/base",
     "model_module_version": "1.2.0",
     "model_name": "LayoutModel",
     "state": {
      "_model_module": "@jupyter-widgets/base",
      "_model_module_version": "1.2.0",
      "_model_name": "LayoutModel",
      "_view_count": null,
      "_view_module": "@jupyter-widgets/base",
      "_view_module_version": "1.2.0",
      "_view_name": "LayoutView",
      "align_content": null,
      "align_items": "center",
      "align_self": null,
      "border": null,
      "bottom": null,
      "display": "flex",
      "flex": null,
      "flex_flow": "column",
      "grid_area": null,
      "grid_auto_columns": null,
      "grid_auto_flow": null,
      "grid_auto_rows": null,
      "grid_column": null,
      "grid_gap": null,
      "grid_row": null,
      "grid_template_areas": null,
      "grid_template_columns": null,
      "grid_template_rows": null,
      "height": null,
      "justify_content": null,
      "justify_items": null,
      "left": null,
      "margin": null,
      "max_height": null,
      "max_width": null,
      "min_height": null,
      "min_width": null,
      "object_fit": null,
      "object_position": null,
      "order": null,
      "overflow": null,
      "overflow_x": null,
      "overflow_y": null,
      "padding": null,
      "right": null,
      "top": null,
      "visibility": null,
      "width": "50%"
     }
    },
    "3cc64cd244954b3585e5ecf7e0e8f2d6": {
     "model_module": "@jupyter-widgets/controls",
     "model_module_version": "1.5.0",
     "model_name": "DescriptionStyleModel",
     "state": {
      "_model_module": "@jupyter-widgets/controls",
      "_model_module_version": "1.5.0",
      "_model_name": "DescriptionStyleModel",
      "_view_count": null,
      "_view_module": "@jupyter-widgets/base",
      "_view_module_version": "1.2.0",
      "_view_name": "StyleView",
      "description_width": ""
     }
    },
    "3db2f643546747a9aceb87d579f3e7cb": {
     "model_module": "@jupyter-widgets/controls",
     "model_module_version": "1.5.0",
     "model_name": "DescriptionStyleModel",
     "state": {
      "_model_module": "@jupyter-widgets/controls",
      "_model_module_version": "1.5.0",
      "_model_name": "DescriptionStyleModel",
      "_view_count": null,
      "_view_module": "@jupyter-widgets/base",
      "_view_module_version": "1.2.0",
      "_view_name": "StyleView",
      "description_width": ""
     }
    },
    "41454e8f23e445528747f645aa28527c": {
     "model_module": "@jupyter-widgets/controls",
     "model_module_version": "1.5.0",
     "model_name": "HTMLModel",
     "state": {
      "_dom_classes": [],
      "_model_module": "@jupyter-widgets/controls",
      "_model_module_version": "1.5.0",
      "_model_name": "HTMLModel",
      "_view_count": null,
      "_view_module": "@jupyter-widgets/controls",
      "_view_module_version": "1.5.0",
      "_view_name": "HTMLView",
      "description": "",
      "description_tooltip": null,
      "layout": "IPY_MODEL_1e8d1d9b2d5b4770ba1284ab72fe817d",
      "placeholder": "​",
      "style": "IPY_MODEL_3db2f643546747a9aceb87d579f3e7cb",
      "value": "<center> <img\nsrc=https://huggingface.co/front/assets/huggingface_logo-noborder.svg\nalt='Hugging Face'> <br> Copy a token from <a\nhref=\"https://huggingface.co/settings/tokens\" target=\"_blank\">your Hugging Face\ntokens page</a> and paste it below. <br> Immediately click login after copying\nyour token or it might be stored in plain text in this notebook file. </center>"
     }
    },
    "7f3f491a93994f97b44dc7a973213e6e": {
     "model_module": "@jupyter-widgets/base",
     "model_module_version": "1.2.0",
     "model_name": "LayoutModel",
     "state": {
      "_model_module": "@jupyter-widgets/base",
      "_model_module_version": "1.2.0",
      "_model_name": "LayoutModel",
      "_view_count": null,
      "_view_module": "@jupyter-widgets/base",
      "_view_module_version": "1.2.0",
      "_view_name": "LayoutView",
      "align_content": null,
      "align_items": null,
      "align_self": null,
      "border": null,
      "bottom": null,
      "display": null,
      "flex": null,
      "flex_flow": null,
      "grid_area": null,
      "grid_auto_columns": null,
      "grid_auto_flow": null,
      "grid_auto_rows": null,
      "grid_column": null,
      "grid_gap": null,
      "grid_row": null,
      "grid_template_areas": null,
      "grid_template_columns": null,
      "grid_template_rows": null,
      "height": null,
      "justify_content": null,
      "justify_items": null,
      "left": null,
      "margin": null,
      "max_height": null,
      "max_width": null,
      "min_height": null,
      "min_width": null,
      "object_fit": null,
      "object_position": null,
      "order": null,
      "overflow": null,
      "overflow_x": null,
      "overflow_y": null,
      "padding": null,
      "right": null,
      "top": null,
      "visibility": null,
      "width": null
     }
    },
    "8aff53b2d74d4c60964ac2de4a2db800": {
     "model_module": "@jupyter-widgets/base",
     "model_module_version": "1.2.0",
     "model_name": "LayoutModel",
     "state": {
      "_model_module": "@jupyter-widgets/base",
      "_model_module_version": "1.2.0",
      "_model_name": "LayoutModel",
      "_view_count": null,
      "_view_module": "@jupyter-widgets/base",
      "_view_module_version": "1.2.0",
      "_view_name": "LayoutView",
      "align_content": null,
      "align_items": null,
      "align_self": null,
      "border": null,
      "bottom": null,
      "display": null,
      "flex": null,
      "flex_flow": null,
      "grid_area": null,
      "grid_auto_columns": null,
      "grid_auto_flow": null,
      "grid_auto_rows": null,
      "grid_column": null,
      "grid_gap": null,
      "grid_row": null,
      "grid_template_areas": null,
      "grid_template_columns": null,
      "grid_template_rows": null,
      "height": null,
      "justify_content": null,
      "justify_items": null,
      "left": null,
      "margin": null,
      "max_height": null,
      "max_width": null,
      "min_height": null,
      "min_width": null,
      "object_fit": null,
      "object_position": null,
      "order": null,
      "overflow": null,
      "overflow_x": null,
      "overflow_y": null,
      "padding": null,
      "right": null,
      "top": null,
      "visibility": null,
      "width": null
     }
    },
    "972d2815b2fc4f4d88de4db5a2b9e130": {
     "model_module": "@jupyter-widgets/controls",
     "model_module_version": "1.5.0",
     "model_name": "LabelModel",
     "state": {
      "_dom_classes": [],
      "_model_module": "@jupyter-widgets/controls",
      "_model_module_version": "1.5.0",
      "_model_name": "LabelModel",
      "_view_count": null,
      "_view_module": "@jupyter-widgets/controls",
      "_view_module_version": "1.5.0",
      "_view_name": "LabelView",
      "description": "",
      "description_tooltip": null,
      "layout": "IPY_MODEL_bd4eebd16a824b39b86b96b36e4342f9",
      "placeholder": "​",
      "style": "IPY_MODEL_e47359139b6c4bb89d62364ee4f81dd0",
      "value": "Connecting..."
     }
    },
    "a6d08af8621744ae8fad521711f4616c": {
     "model_module": "@jupyter-widgets/controls",
     "model_module_version": "1.5.0",
     "model_name": "ButtonStyleModel",
     "state": {
      "_model_module": "@jupyter-widgets/controls",
      "_model_module_version": "1.5.0",
      "_model_name": "ButtonStyleModel",
      "_view_count": null,
      "_view_module": "@jupyter-widgets/base",
      "_view_module_version": "1.2.0",
      "_view_name": "StyleView",
      "button_color": null,
      "font_weight": ""
     }
    },
    "a941441b9ca24cab85f9e8c64c3619c2": {
     "model_module": "@jupyter-widgets/base",
     "model_module_version": "1.2.0",
     "model_name": "LayoutModel",
     "state": {
      "_model_module": "@jupyter-widgets/base",
      "_model_module_version": "1.2.0",
      "_model_name": "LayoutModel",
      "_view_count": null,
      "_view_module": "@jupyter-widgets/base",
      "_view_module_version": "1.2.0",
      "_view_name": "LayoutView",
      "align_content": null,
      "align_items": null,
      "align_self": null,
      "border": null,
      "bottom": null,
      "display": null,
      "flex": null,
      "flex_flow": null,
      "grid_area": null,
      "grid_auto_columns": null,
      "grid_auto_flow": null,
      "grid_auto_rows": null,
      "grid_column": null,
      "grid_gap": null,
      "grid_row": null,
      "grid_template_areas": null,
      "grid_template_columns": null,
      "grid_template_rows": null,
      "height": null,
      "justify_content": null,
      "justify_items": null,
      "left": null,
      "margin": null,
      "max_height": null,
      "max_width": null,
      "min_height": null,
      "min_width": null,
      "object_fit": null,
      "object_position": null,
      "order": null,
      "overflow": null,
      "overflow_x": null,
      "overflow_y": null,
      "padding": null,
      "right": null,
      "top": null,
      "visibility": null,
      "width": null
     }
    },
    "b0978442048c444684fe94ef43d3f9ed": {
     "model_module": "@jupyter-widgets/base",
     "model_module_version": "1.2.0",
     "model_name": "LayoutModel",
     "state": {
      "_model_module": "@jupyter-widgets/base",
      "_model_module_version": "1.2.0",
      "_model_name": "LayoutModel",
      "_view_count": null,
      "_view_module": "@jupyter-widgets/base",
      "_view_module_version": "1.2.0",
      "_view_name": "LayoutView",
      "align_content": null,
      "align_items": null,
      "align_self": null,
      "border": null,
      "bottom": null,
      "display": null,
      "flex": null,
      "flex_flow": null,
      "grid_area": null,
      "grid_auto_columns": null,
      "grid_auto_flow": null,
      "grid_auto_rows": null,
      "grid_column": null,
      "grid_gap": null,
      "grid_row": null,
      "grid_template_areas": null,
      "grid_template_columns": null,
      "grid_template_rows": null,
      "height": null,
      "justify_content": null,
      "justify_items": null,
      "left": null,
      "margin": null,
      "max_height": null,
      "max_width": null,
      "min_height": null,
      "min_width": null,
      "object_fit": null,
      "object_position": null,
      "order": null,
      "overflow": null,
      "overflow_x": null,
      "overflow_y": null,
      "padding": null,
      "right": null,
      "top": null,
      "visibility": null,
      "width": null
     }
    },
    "b1f98ca490a44f539135644251211f9b": {
     "model_module": "@jupyter-widgets/controls",
     "model_module_version": "1.5.0",
     "model_name": "ButtonModel",
     "state": {
      "_dom_classes": [],
      "_model_module": "@jupyter-widgets/controls",
      "_model_module_version": "1.5.0",
      "_model_name": "ButtonModel",
      "_view_count": null,
      "_view_module": "@jupyter-widgets/controls",
      "_view_module_version": "1.5.0",
      "_view_name": "ButtonView",
      "button_style": "",
      "description": "Login",
      "disabled": false,
      "icon": "",
      "layout": "IPY_MODEL_a941441b9ca24cab85f9e8c64c3619c2",
      "style": "IPY_MODEL_a6d08af8621744ae8fad521711f4616c",
      "tooltip": ""
     }
    },
    "bc0591a9f98d4a8fbd894d1b35121c93": {
     "model_module": "@jupyter-widgets/controls",
     "model_module_version": "1.5.0",
     "model_name": "DescriptionStyleModel",
     "state": {
      "_model_module": "@jupyter-widgets/controls",
      "_model_module_version": "1.5.0",
      "_model_name": "DescriptionStyleModel",
      "_view_count": null,
      "_view_module": "@jupyter-widgets/base",
      "_view_module_version": "1.2.0",
      "_view_name": "StyleView",
      "description_width": ""
     }
    },
    "bd4eebd16a824b39b86b96b36e4342f9": {
     "model_module": "@jupyter-widgets/base",
     "model_module_version": "1.2.0",
     "model_name": "LayoutModel",
     "state": {
      "_model_module": "@jupyter-widgets/base",
      "_model_module_version": "1.2.0",
      "_model_name": "LayoutModel",
      "_view_count": null,
      "_view_module": "@jupyter-widgets/base",
      "_view_module_version": "1.2.0",
      "_view_name": "LayoutView",
      "align_content": null,
      "align_items": null,
      "align_self": null,
      "border": null,
      "bottom": null,
      "display": null,
      "flex": null,
      "flex_flow": null,
      "grid_area": null,
      "grid_auto_columns": null,
      "grid_auto_flow": null,
      "grid_auto_rows": null,
      "grid_column": null,
      "grid_gap": null,
      "grid_row": null,
      "grid_template_areas": null,
      "grid_template_columns": null,
      "grid_template_rows": null,
      "height": null,
      "justify_content": null,
      "justify_items": null,
      "left": null,
      "margin": null,
      "max_height": null,
      "max_width": null,
      "min_height": null,
      "min_width": null,
      "object_fit": null,
      "object_position": null,
      "order": null,
      "overflow": null,
      "overflow_x": null,
      "overflow_y": null,
      "padding": null,
      "right": null,
      "top": null,
      "visibility": null,
      "width": null
     }
    },
    "e3824c24a288447199861fa06bcaf11b": {
     "model_module": "@jupyter-widgets/controls",
     "model_module_version": "1.5.0",
     "model_name": "PasswordModel",
     "state": {
      "_dom_classes": [],
      "_model_module": "@jupyter-widgets/controls",
      "_model_module_version": "1.5.0",
      "_model_name": "PasswordModel",
      "_view_count": null,
      "_view_module": "@jupyter-widgets/controls",
      "_view_module_version": "1.5.0",
      "_view_name": "PasswordView",
      "continuous_update": true,
      "description": "Token:",
      "description_tooltip": null,
      "disabled": false,
      "layout": "IPY_MODEL_8aff53b2d74d4c60964ac2de4a2db800",
      "placeholder": "​",
      "style": "IPY_MODEL_bc0591a9f98d4a8fbd894d1b35121c93",
      "value": ""
     }
    },
    "e47359139b6c4bb89d62364ee4f81dd0": {
     "model_module": "@jupyter-widgets/controls",
     "model_module_version": "1.5.0",
     "model_name": "DescriptionStyleModel",
     "state": {
      "_model_module": "@jupyter-widgets/controls",
      "_model_module_version": "1.5.0",
      "_model_name": "DescriptionStyleModel",
      "_view_count": null,
      "_view_module": "@jupyter-widgets/base",
      "_view_module_version": "1.2.0",
      "_view_name": "StyleView",
      "description_width": ""
     }
    },
    "fcb9ccacf8fa4b32945ead304330f72e": {
     "model_module": "@jupyter-widgets/controls",
     "model_module_version": "1.5.0",
     "model_name": "DescriptionStyleModel",
     "state": {
      "_model_module": "@jupyter-widgets/controls",
      "_model_module_version": "1.5.0",
      "_model_name": "DescriptionStyleModel",
      "_view_count": null,
      "_view_module": "@jupyter-widgets/base",
      "_view_module_version": "1.2.0",
      "_view_name": "StyleView",
      "description_width": ""
     }
    }
   }
  }
 },
 "nbformat": 4,
 "nbformat_minor": 0
}
